{
 "cells": [
  {
   "cell_type": "code",
   "execution_count": 1,
   "id": "251010cc-217a-4a89-af2c-9e01f07437dd",
   "metadata": {
    "tags": []
   },
   "outputs": [
    {
     "name": "stdin",
     "output_type": "stream",
     "text": [
      "please input a name: name1\n"
     ]
    },
    {
     "name": "stdout",
     "output_type": "stream",
     "text": [
      "80\n"
     ]
    }
   ],
   "source": [
    "names = ['name1','name2','name3']\n",
    "scores = [80,90,100]\n",
    "name = input('please input a name:')\n",
    "print(scores[names.index(name)])"
   ]
  },
  {
   "cell_type": "code",
   "execution_count": 2,
   "id": "2239b9a5-39a6-46b9-b26d-f051755aa910",
   "metadata": {
    "tags": []
   },
   "outputs": [
    {
     "name": "stdin",
     "output_type": "stream",
     "text": [
      "please input a name: name1\n"
     ]
    },
    {
     "name": "stdout",
     "output_type": "stream",
     "text": [
      "80\n"
     ]
    }
   ],
   "source": [
    "scores = [['name1',80],['name2',90],['name3',100]]\n",
    "name = input('please input a name:')\n",
    "for item in scores:\n",
    "    if item[0] == name:\n",
    "        print(item[1])"
   ]
  },
  {
   "cell_type": "code",
   "execution_count": 4,
   "id": "5b11e3f3-0db2-4386-846d-69e3e15ad83d",
   "metadata": {
    "tags": []
   },
   "outputs": [
    {
     "name": "stdin",
     "output_type": "stream",
     "text": [
      "please input a name: name1\n"
     ]
    },
    {
     "name": "stdout",
     "output_type": "stream",
     "text": [
      "80\n"
     ]
    }
   ],
   "source": [
    "scores = {'name1':80,'name2':90,'name3':100}\n",
    "name = input('please input a name:')\n",
    "print(scores[name])"
   ]
  },
  {
   "cell_type": "code",
   "execution_count": 5,
   "id": "a0de3d0d-a05c-4935-814a-89018a9a3c11",
   "metadata": {
    "tags": []
   },
   "outputs": [
    {
     "data": {
      "text/plain": [
       "{'name1': 80, 'name2': 90, 'name3': 100, 'name4': 98}"
      ]
     },
     "execution_count": 5,
     "metadata": {},
     "output_type": "execute_result"
    }
   ],
   "source": [
    "scores['name4']=98\n",
    "scores"
   ]
  },
  {
   "cell_type": "code",
   "execution_count": 6,
   "id": "5a452b45-6ecd-461a-84fb-6195c19f4db3",
   "metadata": {
    "tags": []
   },
   "outputs": [
    {
     "data": {
      "text/plain": [
       "{'name2': 90, 'name3': 100, 'name4': 98}"
      ]
     },
     "execution_count": 6,
     "metadata": {},
     "output_type": "execute_result"
    }
   ],
   "source": [
    "del scores['name1']\n",
    "scores"
   ]
  },
  {
   "cell_type": "code",
   "execution_count": 7,
   "id": "98c24771-f9ef-4952-9598-96316ab7b57c",
   "metadata": {
    "tags": []
   },
   "outputs": [
    {
     "data": {
      "text/plain": [
       "{'name': 'Bob', 'age': 24}"
      ]
     },
     "execution_count": 7,
     "metadata": {},
     "output_type": "execute_result"
    }
   ],
   "source": [
    "d = dict(name='Bob',age=24)\n",
    "d"
   ]
  },
  {
   "cell_type": "code",
   "execution_count": 8,
   "id": "9033c023-4116-4cfb-a718-71a82413c9b5",
   "metadata": {
    "tags": []
   },
   "outputs": [],
   "source": [
    "d1 = d\n",
    "d1['name']='Marry'"
   ]
  },
  {
   "cell_type": "code",
   "execution_count": 9,
   "id": "057cffbc-9daa-414d-82f3-b51e250bbf78",
   "metadata": {
    "tags": []
   },
   "outputs": [
    {
     "data": {
      "text/plain": [
       "{'name': 'Marry', 'age': 24}"
      ]
     },
     "execution_count": 9,
     "metadata": {},
     "output_type": "execute_result"
    }
   ],
   "source": [
    "d"
   ]
  },
  {
   "cell_type": "code",
   "execution_count": 10,
   "id": "d2ae32dd-ef26-48e8-ab6d-1d72a160b67b",
   "metadata": {
    "tags": []
   },
   "outputs": [
    {
     "data": {
      "text/plain": [
       "{'name': None, 'age': None}"
      ]
     },
     "execution_count": 10,
     "metadata": {},
     "output_type": "execute_result"
    }
   ],
   "source": [
    "{}.fromkeys(['name','age'])"
   ]
  },
  {
   "cell_type": "code",
   "execution_count": 11,
   "id": "7a6cc6ea-db63-4094-b1b0-4fc3df6613a8",
   "metadata": {
    "tags": []
   },
   "outputs": [
    {
     "name": "stdout",
     "output_type": "stream",
     "text": [
      "{'a': 0, 'e': 1, 'i': 0, 'o': 1, 'u': 0}\n"
     ]
    }
   ],
   "source": [
    "str = 'hello'\n",
    "count = dict.fromkeys('aeiou',0)\n",
    "for ch in str:\n",
    "    if ch in 'aeiou':\n",
    "        count[ch]+=1\n",
    "print(count)'please input a namae'"
   ]
  },
  {
   "cell_type": "code",
   "execution_count": 13,
   "id": "a3c1bb79-8900-4c26-b723-4c36086a39b9",
   "metadata": {
    "tags": []
   },
   "outputs": [
    {
     "data": {
      "text/plain": [
       "0"
      ]
     },
     "execution_count": 13,
     "metadata": {},
     "output_type": "execute_result"
    }
   ],
   "source": [
    "count['a']"
   ]
  },
  {
   "cell_type": "code",
   "execution_count": 14,
   "id": "902670ed-7d13-4259-abe0-35cb089fde0c",
   "metadata": {
    "tags": []
   },
   "outputs": [
    {
     "name": "stdout",
     "output_type": "stream",
     "text": [
      "0\n"
     ]
    }
   ],
   "source": [
    "print(count.get('a'))"
   ]
  },
  {
   "cell_type": "code",
   "execution_count": 15,
   "id": "a08c090f-b1ad-43eb-ba0f-9a0615db0a7e",
   "metadata": {
    "tags": []
   },
   "outputs": [
    {
     "data": {
      "text/plain": [
       "False"
      ]
     },
     "execution_count": 15,
     "metadata": {},
     "output_type": "execute_result"
    }
   ],
   "source": [
    "'b' in count"
   ]
  },
  {
   "cell_type": "code",
   "execution_count": 19,
   "id": "2a0480a3-198c-489e-99d0-49c4b81bc3d0",
   "metadata": {
    "tags": []
   },
   "outputs": [
    {
     "name": "stdout",
     "output_type": "stream",
     "text": [
      "0\n"
     ]
    }
   ],
   "source": [
    "print(count.get('b',0))"
   ]
  },
  {
   "cell_type": "code",
   "execution_count": 20,
   "id": "29ff5606-d30b-4f0d-b84b-28f2b10a9ce9",
   "metadata": {
    "tags": []
   },
   "outputs": [
    {
     "data": {
      "text/plain": [
       "{'name': None, 'score': None}"
      ]
     },
     "execution_count": 20,
     "metadata": {},
     "output_type": "execute_result"
    }
   ],
   "source": [
    "student = dict.fromkeys(('name','score'))\n",
    "student"
   ]
  },
  {
   "cell_type": "code",
   "execution_count": 24,
   "id": "3bb17193-63f8-457d-ad7e-b7385fb267d5",
   "metadata": {
    "tags": []
   },
   "outputs": [
    {
     "name": "stdin",
     "output_type": "stream",
     "text": [
      "please input a namae d\n",
      "please input a score 23\n"
     ]
    },
    {
     "name": "stdout",
     "output_type": "stream",
     "text": [
      "Name:d scores:23\n"
     ]
    }
   ],
   "source": [
    "student['name'] = input('please input a namae')\n",
    "student['scores'] = int (input('please input a score'))\n",
    "print(f\"Name:{student['name']} scores:{student['scores']}\")"
   ]
  },
  {
   "cell_type": "code",
   "execution_count": 25,
   "id": "8ea9f3f1-c4b8-4740-a5ad-7cc3e93042c5",
   "metadata": {
    "tags": []
   },
   "outputs": [],
   "source": [
    "text = \"赵钱孙李、周吴郑王、冯陈褚卫、蒋沈韩杨、朱秦尤许、何吕施张、孔曹严华、金魏陶姜、戚谢邹喻、柏水窦章、云苏潘葛、奚范彭郎、鲁韦昌马、苗凤花方、俞任袁柳、酆鲍史唐、费廉岑薛、雷贺倪汤、滕殷罗毕、郝邬安常、乐于时傅、皮卞齐康、伍余元卜、顾孟平黄、和穆萧尹、姚邵湛汪、祁毛禹狄、米贝明臧、计伏成戴、谈宋茅庞、熊纪舒屈、项祝董梁、杜阮蓝闵、席季麻强、贾路娄危、江童颜郭、梅盛林刁、钟徐邱骆、高夏蔡田、樊胡凌霍、虞万支柯、昝管卢莫、经房裘缪、干解应宗、丁宣贲邓、郁单杭洪、包诸左石、崔吉钮龚、程嵇邢滑、裴陆荣翁、荀羊於惠、甄麴家封、芮羿储靳、汲邴糜松、井段富巫、乌焦巴弓、牧隗山谷、车侯宓蓬、全郗班仰、秋仲伊宫、宁仇栾暴、甘钭厉戎、祖武符刘\""
   ]
  },
  {
   "cell_type": "code",
   "execution_count": 28,
   "id": "7f1e2c09-44d1-4de0-b322-11c837d3c08f",
   "metadata": {
    "tags": []
   },
   "outputs": [],
   "source": [
    "import pypinyin\n",
    "pinyin_list = pypinyin.pinyin(text,style = pypinyin.Style.NORMAL)"
   ]
  },
  {
   "cell_type": "code",
   "execution_count": 29,
   "id": "557b5159-89f1-4d7e-9b49-fb0455495c3d",
   "metadata": {
    "tags": []
   },
   "outputs": [
    {
     "data": {
      "text/plain": [
       "[['zhao'],\n",
       " ['qian'],\n",
       " ['sun'],\n",
       " ['li'],\n",
       " ['、'],\n",
       " ['zhou'],\n",
       " ['wu'],\n",
       " ['zheng'],\n",
       " ['wang'],\n",
       " ['、'],\n",
       " ['feng'],\n",
       " ['chen'],\n",
       " ['chu'],\n",
       " ['wei'],\n",
       " ['、'],\n",
       " ['jiang'],\n",
       " ['shen'],\n",
       " ['han'],\n",
       " ['yang'],\n",
       " ['、'],\n",
       " ['zhu'],\n",
       " ['qin'],\n",
       " ['you'],\n",
       " ['xu'],\n",
       " ['、'],\n",
       " ['he'],\n",
       " ['lv'],\n",
       " ['shi'],\n",
       " ['zhang'],\n",
       " ['、'],\n",
       " ['kong'],\n",
       " ['cao'],\n",
       " ['yan'],\n",
       " ['hua'],\n",
       " ['、'],\n",
       " ['jin'],\n",
       " ['wei'],\n",
       " ['tao'],\n",
       " ['jiang'],\n",
       " ['、'],\n",
       " ['qi'],\n",
       " ['xie'],\n",
       " ['zou'],\n",
       " ['yu'],\n",
       " ['、'],\n",
       " ['bai'],\n",
       " ['shui'],\n",
       " ['dou'],\n",
       " ['zhang'],\n",
       " ['、'],\n",
       " ['yun'],\n",
       " ['su'],\n",
       " ['pan'],\n",
       " ['ge'],\n",
       " ['、'],\n",
       " ['xi'],\n",
       " ['fan'],\n",
       " ['peng'],\n",
       " ['lang'],\n",
       " ['、'],\n",
       " ['lu'],\n",
       " ['wei'],\n",
       " ['chang'],\n",
       " ['ma'],\n",
       " ['、'],\n",
       " ['miao'],\n",
       " ['feng'],\n",
       " ['hua'],\n",
       " ['fang'],\n",
       " ['、'],\n",
       " ['yu'],\n",
       " ['ren'],\n",
       " ['yuan'],\n",
       " ['liu'],\n",
       " ['、'],\n",
       " ['feng'],\n",
       " ['bao'],\n",
       " ['shi'],\n",
       " ['tang'],\n",
       " ['、'],\n",
       " ['fei'],\n",
       " ['lian'],\n",
       " ['cen'],\n",
       " ['xue'],\n",
       " ['、'],\n",
       " ['lei'],\n",
       " ['he'],\n",
       " ['ni'],\n",
       " ['tang'],\n",
       " ['、'],\n",
       " ['teng'],\n",
       " ['yin'],\n",
       " ['luo'],\n",
       " ['bi'],\n",
       " ['、'],\n",
       " ['hao'],\n",
       " ['wu'],\n",
       " ['an'],\n",
       " ['chang'],\n",
       " ['、'],\n",
       " ['le'],\n",
       " ['yu'],\n",
       " ['shi'],\n",
       " ['fu'],\n",
       " ['、'],\n",
       " ['pi'],\n",
       " ['bian'],\n",
       " ['qi'],\n",
       " ['kang'],\n",
       " ['、'],\n",
       " ['wu'],\n",
       " ['yu'],\n",
       " ['yuan'],\n",
       " ['bo'],\n",
       " ['、'],\n",
       " ['gu'],\n",
       " ['meng'],\n",
       " ['ping'],\n",
       " ['huang'],\n",
       " ['、'],\n",
       " ['he'],\n",
       " ['mu'],\n",
       " ['xiao'],\n",
       " ['yin'],\n",
       " ['、'],\n",
       " ['yao'],\n",
       " ['shao'],\n",
       " ['zhan'],\n",
       " ['wang'],\n",
       " ['、'],\n",
       " ['qi'],\n",
       " ['mao'],\n",
       " ['yu'],\n",
       " ['di'],\n",
       " ['、'],\n",
       " ['mi'],\n",
       " ['bei'],\n",
       " ['ming'],\n",
       " ['zang'],\n",
       " ['、'],\n",
       " ['ji'],\n",
       " ['fu'],\n",
       " ['cheng'],\n",
       " ['dai'],\n",
       " ['、'],\n",
       " ['tan'],\n",
       " ['song'],\n",
       " ['mao'],\n",
       " ['pang'],\n",
       " ['、'],\n",
       " ['xiong'],\n",
       " ['ji'],\n",
       " ['shu'],\n",
       " ['qu'],\n",
       " ['、'],\n",
       " ['xiang'],\n",
       " ['zhu'],\n",
       " ['dong'],\n",
       " ['liang'],\n",
       " ['、'],\n",
       " ['du'],\n",
       " ['ruan'],\n",
       " ['lan'],\n",
       " ['min'],\n",
       " ['、'],\n",
       " ['xi'],\n",
       " ['ji'],\n",
       " ['ma'],\n",
       " ['qiang'],\n",
       " ['、'],\n",
       " ['jia'],\n",
       " ['lu'],\n",
       " ['lou'],\n",
       " ['wei'],\n",
       " ['、'],\n",
       " ['jiang'],\n",
       " ['tong'],\n",
       " ['yan'],\n",
       " ['guo'],\n",
       " ['、'],\n",
       " ['mei'],\n",
       " ['sheng'],\n",
       " ['lin'],\n",
       " ['diao'],\n",
       " ['、'],\n",
       " ['zhong'],\n",
       " ['xu'],\n",
       " ['qiu'],\n",
       " ['luo'],\n",
       " ['、'],\n",
       " ['gao'],\n",
       " ['xia'],\n",
       " ['cai'],\n",
       " ['tian'],\n",
       " ['、'],\n",
       " ['fan'],\n",
       " ['hu'],\n",
       " ['ling'],\n",
       " ['huo'],\n",
       " ['、'],\n",
       " ['yu'],\n",
       " ['wan'],\n",
       " ['zhi'],\n",
       " ['ke'],\n",
       " ['、'],\n",
       " ['zan'],\n",
       " ['guan'],\n",
       " ['lu'],\n",
       " ['mo'],\n",
       " ['、'],\n",
       " ['jing'],\n",
       " ['fang'],\n",
       " ['qiu'],\n",
       " ['mou'],\n",
       " ['、'],\n",
       " ['gan'],\n",
       " ['jie'],\n",
       " ['ying'],\n",
       " ['zong'],\n",
       " ['、'],\n",
       " ['ding'],\n",
       " ['xuan'],\n",
       " ['ben'],\n",
       " ['deng'],\n",
       " ['、'],\n",
       " ['yu'],\n",
       " ['dan'],\n",
       " ['hang'],\n",
       " ['hong'],\n",
       " ['、'],\n",
       " ['bao'],\n",
       " ['zhu'],\n",
       " ['zuo'],\n",
       " ['shi'],\n",
       " ['、'],\n",
       " ['cui'],\n",
       " ['ji'],\n",
       " ['niu'],\n",
       " ['gong'],\n",
       " ['、'],\n",
       " ['cheng'],\n",
       " ['ji'],\n",
       " ['xing'],\n",
       " ['hua'],\n",
       " ['、'],\n",
       " ['pei'],\n",
       " ['lu'],\n",
       " ['rong'],\n",
       " ['weng'],\n",
       " ['、'],\n",
       " ['xun'],\n",
       " ['yang'],\n",
       " ['yu'],\n",
       " ['hui'],\n",
       " ['、'],\n",
       " ['zhen'],\n",
       " ['qu'],\n",
       " ['jia'],\n",
       " ['feng'],\n",
       " ['、'],\n",
       " ['rui'],\n",
       " ['yi'],\n",
       " ['chu'],\n",
       " ['jin'],\n",
       " ['、'],\n",
       " ['ji'],\n",
       " ['bing'],\n",
       " ['mi'],\n",
       " ['song'],\n",
       " ['、'],\n",
       " ['jing'],\n",
       " ['duan'],\n",
       " ['fu'],\n",
       " ['wu'],\n",
       " ['、'],\n",
       " ['wu'],\n",
       " ['jiao'],\n",
       " ['ba'],\n",
       " ['gong'],\n",
       " ['、'],\n",
       " ['mu'],\n",
       " ['kui'],\n",
       " ['shan'],\n",
       " ['gu'],\n",
       " ['、'],\n",
       " ['che'],\n",
       " ['hou'],\n",
       " ['mi'],\n",
       " ['peng'],\n",
       " ['、'],\n",
       " ['quan'],\n",
       " ['xi'],\n",
       " ['ban'],\n",
       " ['yang'],\n",
       " ['、'],\n",
       " ['qiu'],\n",
       " ['zhong'],\n",
       " ['yi'],\n",
       " ['gong'],\n",
       " ['、'],\n",
       " ['ning'],\n",
       " ['chou'],\n",
       " ['luan'],\n",
       " ['bao'],\n",
       " ['、'],\n",
       " ['gan'],\n",
       " ['tou'],\n",
       " ['li'],\n",
       " ['rong'],\n",
       " ['、'],\n",
       " ['zu'],\n",
       " ['wu'],\n",
       " ['fu'],\n",
       " ['liu']]"
      ]
     },
     "execution_count": 29,
     "metadata": {},
     "output_type": "execute_result"
    }
   ],
   "source": [
    "pinyin_list"
   ]
  },
  {
   "cell_type": "code",
   "execution_count": 31,
   "id": "aca9eb8c-b60d-4d0b-bb63-9ae6774432c9",
   "metadata": {
    "tags": []
   },
   "outputs": [
    {
     "data": {
      "text/plain": [
       "96.63179184367172"
      ]
     },
     "execution_count": 31,
     "metadata": {},
     "output_type": "execute_result"
    }
   ],
   "source": [
    "import random\n",
    "random.gauss(75,20)"
   ]
  },
  {
   "cell_type": "code",
   "execution_count": 32,
   "id": "2548cb96-ce7d-4377-aa4c-129501db1a70",
   "metadata": {
    "tags": []
   },
   "outputs": [
    {
     "data": {
      "text/plain": [
       "[71,\n",
       " 66,\n",
       " 79,\n",
       " 79,\n",
       " 67,\n",
       " 83,\n",
       " 87,\n",
       " 50,\n",
       " 95,\n",
       " 62,\n",
       " 46,\n",
       " 78,\n",
       " 108,\n",
       " 63,\n",
       " 75,\n",
       " 76,\n",
       " 58,\n",
       " 63,\n",
       " 87,\n",
       " 71,\n",
       " 94,\n",
       " 105,\n",
       " 103,\n",
       " 84,\n",
       " 67,\n",
       " 49,\n",
       " 65,\n",
       " 78,\n",
       " 71,\n",
       " 101,\n",
       " 78,\n",
       " 50,\n",
       " 61,\n",
       " 81,\n",
       " 46,\n",
       " 68,\n",
       " 78,\n",
       " 71,\n",
       " 89,\n",
       " 134,\n",
       " 73,\n",
       " 85,\n",
       " 51,\n",
       " 59,\n",
       " 100,\n",
       " 87,\n",
       " 81,\n",
       " 79,\n",
       " 68,\n",
       " 52,\n",
       " 75,\n",
       " 69,\n",
       " 94,\n",
       " 95,\n",
       " 70,\n",
       " 63,\n",
       " 69,\n",
       " 112,\n",
       " 64,\n",
       " 76,\n",
       " 65,\n",
       " 89,\n",
       " 37,\n",
       " 78,\n",
       " 97,\n",
       " 69,\n",
       " 65,\n",
       " 55,\n",
       " 70,\n",
       " 75,\n",
       " 73,\n",
       " 61,\n",
       " 76,\n",
       " 97,\n",
       " 86,\n",
       " 47,\n",
       " 96,\n",
       " 24,\n",
       " 119,\n",
       " 76,\n",
       " 101,\n",
       " 49,\n",
       " 70,\n",
       " 91,\n",
       " 105,\n",
       " 54,\n",
       " 76,\n",
       " 105,\n",
       " 62,\n",
       " 63,\n",
       " 102,\n",
       " 87,\n",
       " 60,\n",
       " 79,\n",
       " 43,\n",
       " 94,\n",
       " 87,\n",
       " 70,\n",
       " 63,\n",
       " 70]"
      ]
     },
     "execution_count": 32,
     "metadata": {},
     "output_type": "execute_result"
    }
   ],
   "source": [
    "import math\n",
    "[math.ceil(random.gauss(75,20))for i in range(0,100)]"
   ]
  },
  {
   "cell_type": "code",
   "execution_count": 35,
   "id": "cc6806aa-ea14-425d-af87-787a6874c80d",
   "metadata": {
    "tags": []
   },
   "outputs": [],
   "source": [
    "score_template = {'physics':None,'math':None,'python':None}\n",
    "scores = score_template.copy()\n",
    "\n",
    "score_db = dict()\n",
    "for name in names:\n",
    "    score = math.ceil(random.gauss(75,20))\n",
    "    if score>100:score=100\n",
    "    if score<0:score=0\n",
    "    scores['physics']=score\n",
    "    \n",
    "    score = math.ceil(random.gauss(75,20))\n",
    "    if score>100:score=100\n",
    "    if score<0:score=0\n",
    "    scores['math']=score\n",
    "    \n",
    "    score = math.ceil(random.gauss(75,20))\n",
    "    if score>100:score=100\n",
    "    if score<0:score=0\n",
    "    scores['python']=score\n",
    "    \n",
    "    score_db[name]=scores"
   ]
  },
  {
   "cell_type": "code",
   "execution_count": 36,
   "id": "51edd139-aa3a-4fe1-95bf-bcf175c72cd6",
   "metadata": {
    "tags": []
   },
   "outputs": [
    {
     "data": {
      "text/plain": [
       "{'name1': {'physics': 57, 'math': 77, 'python': 80},\n",
       " 'name2': {'physics': 57, 'math': 77, 'python': 80},\n",
       " 'name3': {'physics': 57, 'math': 77, 'python': 80}}"
      ]
     },
     "execution_count": 36,
     "metadata": {},
     "output_type": "execute_result"
    }
   ],
   "source": [
    "score_db"
   ]
  },
  {
   "cell_type": "code",
   "execution_count": 37,
   "id": "c527f1f0-4ddd-4c87-ae98-2a4e79f523dd",
   "metadata": {
    "tags": []
   },
   "outputs": [
    {
     "name": "stdout",
     "output_type": "stream",
     "text": [
      "77\n"
     ]
    }
   ],
   "source": [
    "print(score_db['name1']['math'])"
   ]
  },
  {
   "cell_type": "code",
   "execution_count": 38,
   "id": "6f029ba8-f5a7-4b68-aa15-6d0ea9124eff",
   "metadata": {
    "tags": []
   },
   "outputs": [],
   "source": [
    "def get_random_score():\n",
    "    score = math.ceil(random.gauss(75,20))\n",
    "    return score"
   ]
  },
  {
   "cell_type": "code",
   "execution_count": 39,
   "id": "24360dec-a284-4626-8898-d1a75da72d35",
   "metadata": {
    "tags": []
   },
   "outputs": [
    {
     "data": {
      "text/plain": [
       "{'a': 1, 'b': 0}"
      ]
     },
     "execution_count": 39,
     "metadata": {},
     "output_type": "execute_result"
    }
   ],
   "source": [
    "d = dict()\n",
    "d['a']=1\n",
    "d.setdefault('a',0)\n",
    "d.setdefault('b',0)\n",
    "\n",
    "d"
   ]
  },
  {
   "cell_type": "code",
   "execution_count": 46,
   "id": "04bcb014-6784-44b1-b5f5-a106238efd4c",
   "metadata": {
    "tags": []
   },
   "outputs": [],
   "source": [
    "text = '''\n",
    "Google today released the open source version of the differential privacy library used in some its core products, such as Google Maps. Any organization or developer can now check out the library on GitHub.\n",
    "\n",
    "Differential privacy limits the algorithms used to publish aggregate information about a statistical database. Whether you are a city planner, small business owner, or software developer, chances are you want to gain insights from the data of your citizens, customers, or users. But you don’t want to lose their trust in the process. Differentially private data analysis enables organizations to learn from the majority of their data without allowing any single individual’s data to be distinguished or re-identified.\n",
    "\n",
    "“If you are a health researcher, you may want to compare the average amount of time patients remain admitted across various hospitals in order to determine if there are differences in care,” Google product manager Miguel Guevara explains. “Differential privacy is a high-assurance, analytic means of ensuring that use cases like this are addressed in a privacy-preserving manner.”\n",
    "Differential privacy library features\n",
    "\n",
    "Google promises its library is easy for developers to deploy. It can help you perform functions that are difficult to execute from scratch, “like automatically calculating bounds on user contributions,” Guevera says. Key features include:\n",
    "\n",
    "    Statistical functions: Most common data science operations (counts, sums, averages, medians, and percentiles) are supported.\n",
    "    Rigorous testing: Besides an extensive test suite, an extensible “Stochastic Differential Privacy Model Checker library” helps prevent mistakes.\n",
    "    Ready to use: A PostgreSQL extension, along with common recipes, is included.\n",
    "    Modular: The library can be extended to include other functionalities, such as additional mechanisms, aggregation functions, or privacy budget management.\n",
    "\n",
    "This isn’t Google’s first differential privacy rodeo, but the company has been particularly busy in the space this This isn’t Google’s first differential privacy rodeo, but the company has been particularly busy in the space this year. In March, Google released TensorFlow Privacy and TensorFlow Federated. In June, the company open-sourced Private Join and Compute, which gives companies data insights while preserving privacy. To learn more about Google’s approach, check out the team’s technical paper on arXiv.\n",
    "'''"
   ]
  },
  {
   "cell_type": "code",
   "execution_count": 50,
   "id": "ce4b086f-0a3b-4647-a270-1912c8977010",
   "metadata": {
    "tags": []
   },
   "outputs": [
    {
     "data": {
      "text/plain": [
       "['',\n",
       " 'google',\n",
       " 'today',\n",
       " 'released',\n",
       " 'the',\n",
       " 'open',\n",
       " 'source',\n",
       " 'version',\n",
       " 'of',\n",
       " 'the',\n",
       " 'differential',\n",
       " 'privacy',\n",
       " 'library',\n",
       " 'used',\n",
       " 'in',\n",
       " 'some',\n",
       " 'its',\n",
       " 'core',\n",
       " 'products',\n",
       " '',\n",
       " 'such',\n",
       " 'as',\n",
       " 'google',\n",
       " 'maps',\n",
       " '',\n",
       " 'any',\n",
       " 'organization',\n",
       " 'or',\n",
       " 'developer',\n",
       " 'can',\n",
       " 'now',\n",
       " 'check',\n",
       " 'out',\n",
       " 'the',\n",
       " 'library',\n",
       " 'on',\n",
       " 'github',\n",
       " '',\n",
       " '',\n",
       " 'differential',\n",
       " 'privacy',\n",
       " 'limits',\n",
       " 'the',\n",
       " 'algorithms',\n",
       " 'used',\n",
       " 'to',\n",
       " 'publish',\n",
       " 'aggregate',\n",
       " 'information',\n",
       " 'about',\n",
       " 'a',\n",
       " 'statistical',\n",
       " 'database',\n",
       " '',\n",
       " 'whether',\n",
       " 'you',\n",
       " 'are',\n",
       " 'a',\n",
       " 'city',\n",
       " 'planner',\n",
       " '',\n",
       " 'small',\n",
       " 'business',\n",
       " 'owner',\n",
       " '',\n",
       " 'or',\n",
       " 'software',\n",
       " 'developer',\n",
       " '',\n",
       " 'chances',\n",
       " 'are',\n",
       " 'you',\n",
       " 'want',\n",
       " 'to',\n",
       " 'gain',\n",
       " 'insights',\n",
       " 'from',\n",
       " 'the',\n",
       " 'data',\n",
       " 'of',\n",
       " 'your',\n",
       " 'citizens',\n",
       " '',\n",
       " 'customers',\n",
       " '',\n",
       " 'or',\n",
       " 'users',\n",
       " '',\n",
       " 'but',\n",
       " 'you',\n",
       " 'don’t',\n",
       " 'want',\n",
       " 'to',\n",
       " 'lose',\n",
       " 'their',\n",
       " 'trust',\n",
       " 'in',\n",
       " 'the',\n",
       " 'process',\n",
       " '',\n",
       " 'differentially',\n",
       " 'private',\n",
       " 'data',\n",
       " 'analysis',\n",
       " 'enables',\n",
       " 'organizations',\n",
       " 'to',\n",
       " 'learn',\n",
       " 'from',\n",
       " 'the',\n",
       " 'majority',\n",
       " 'of',\n",
       " 'their',\n",
       " 'data',\n",
       " 'without',\n",
       " 'allowing',\n",
       " 'any',\n",
       " 'single',\n",
       " 'individual’s',\n",
       " 'data',\n",
       " 'to',\n",
       " 'be',\n",
       " 'distinguished',\n",
       " 'or',\n",
       " 're-identified',\n",
       " '',\n",
       " '',\n",
       " '“if',\n",
       " 'you',\n",
       " 'are',\n",
       " 'a',\n",
       " 'health',\n",
       " 'researcher',\n",
       " '',\n",
       " 'you',\n",
       " 'may',\n",
       " 'want',\n",
       " 'to',\n",
       " 'compare',\n",
       " 'the',\n",
       " 'average',\n",
       " 'amount',\n",
       " 'of',\n",
       " 'time',\n",
       " 'patients',\n",
       " 'remain',\n",
       " 'admitted',\n",
       " 'across',\n",
       " 'various',\n",
       " 'hospitals',\n",
       " 'in',\n",
       " 'order',\n",
       " 'to',\n",
       " 'determine',\n",
       " 'if',\n",
       " 'there',\n",
       " 'are',\n",
       " 'differences',\n",
       " 'in',\n",
       " 'care',\n",
       " '”',\n",
       " 'google',\n",
       " 'product',\n",
       " 'manager',\n",
       " 'miguel',\n",
       " 'guevara',\n",
       " 'explains',\n",
       " '',\n",
       " '“differential',\n",
       " 'privacy',\n",
       " 'is',\n",
       " 'a',\n",
       " 'high-assurance',\n",
       " '',\n",
       " 'analytic',\n",
       " 'means',\n",
       " 'of',\n",
       " 'ensuring',\n",
       " 'that',\n",
       " 'use',\n",
       " 'cases',\n",
       " 'like',\n",
       " 'this',\n",
       " 'are',\n",
       " 'addressed',\n",
       " 'in',\n",
       " 'a',\n",
       " 'privacy-preserving',\n",
       " 'manner',\n",
       " '”',\n",
       " 'differential',\n",
       " 'privacy',\n",
       " 'library',\n",
       " 'features',\n",
       " '',\n",
       " 'google',\n",
       " 'promises',\n",
       " 'its',\n",
       " 'library',\n",
       " 'is',\n",
       " 'easy',\n",
       " 'for',\n",
       " 'developers',\n",
       " 'to',\n",
       " 'deploy',\n",
       " '',\n",
       " 'it',\n",
       " 'can',\n",
       " 'help',\n",
       " 'you',\n",
       " 'perform',\n",
       " 'functions',\n",
       " 'that',\n",
       " 'are',\n",
       " 'difficult',\n",
       " 'to',\n",
       " 'execute',\n",
       " 'from',\n",
       " 'scratch',\n",
       " '',\n",
       " '“like',\n",
       " 'automatically',\n",
       " 'calculating',\n",
       " 'bounds',\n",
       " 'on',\n",
       " 'user',\n",
       " 'contributions',\n",
       " '”',\n",
       " 'guevera',\n",
       " 'says',\n",
       " '',\n",
       " 'key',\n",
       " 'features',\n",
       " 'include:',\n",
       " '',\n",
       " '',\n",
       " '',\n",
       " '',\n",
       " '',\n",
       " 'statistical',\n",
       " 'functions:',\n",
       " 'most',\n",
       " 'common',\n",
       " 'data',\n",
       " 'science',\n",
       " 'operations',\n",
       " '',\n",
       " 'counts',\n",
       " '',\n",
       " 'sums',\n",
       " '',\n",
       " 'averages',\n",
       " '',\n",
       " 'medians',\n",
       " '',\n",
       " 'and',\n",
       " 'percentiles',\n",
       " '',\n",
       " 'are',\n",
       " 'supported',\n",
       " '',\n",
       " '',\n",
       " '',\n",
       " '',\n",
       " '',\n",
       " 'rigorous',\n",
       " 'testing:',\n",
       " 'besides',\n",
       " 'an',\n",
       " 'extensive',\n",
       " 'test',\n",
       " 'suite',\n",
       " '',\n",
       " 'an',\n",
       " 'extensible',\n",
       " '“stochastic',\n",
       " 'differential',\n",
       " 'privacy',\n",
       " 'model',\n",
       " 'checker',\n",
       " 'library”',\n",
       " 'helps',\n",
       " 'prevent',\n",
       " 'mistakes',\n",
       " '',\n",
       " '',\n",
       " '',\n",
       " '',\n",
       " '',\n",
       " 'ready',\n",
       " 'to',\n",
       " 'use:',\n",
       " 'a',\n",
       " 'postgresql',\n",
       " 'extension',\n",
       " '',\n",
       " 'along',\n",
       " 'with',\n",
       " 'common',\n",
       " 'recipes',\n",
       " '',\n",
       " 'is',\n",
       " 'included',\n",
       " '',\n",
       " '',\n",
       " '',\n",
       " '',\n",
       " '',\n",
       " 'modular:',\n",
       " 'the',\n",
       " 'library',\n",
       " 'can',\n",
       " 'be',\n",
       " 'extended',\n",
       " 'to',\n",
       " 'include',\n",
       " 'other',\n",
       " 'functionalities',\n",
       " '',\n",
       " 'such',\n",
       " 'as',\n",
       " 'additional',\n",
       " 'mechanisms',\n",
       " '',\n",
       " 'aggregation',\n",
       " 'functions',\n",
       " '',\n",
       " 'or',\n",
       " 'privacy',\n",
       " 'budget',\n",
       " 'management',\n",
       " '',\n",
       " '',\n",
       " 'this',\n",
       " 'isn’t',\n",
       " 'google’s',\n",
       " 'first',\n",
       " 'differential',\n",
       " 'privacy',\n",
       " 'rodeo',\n",
       " '',\n",
       " 'but',\n",
       " 'the',\n",
       " 'company',\n",
       " 'has',\n",
       " 'been',\n",
       " 'particularly',\n",
       " 'busy',\n",
       " 'in',\n",
       " 'the',\n",
       " 'space',\n",
       " 'this',\n",
       " 'this',\n",
       " 'isn’t',\n",
       " 'google’s',\n",
       " 'first',\n",
       " 'differential',\n",
       " 'privacy',\n",
       " 'rodeo',\n",
       " '',\n",
       " 'but',\n",
       " 'the',\n",
       " 'company',\n",
       " 'has',\n",
       " 'been',\n",
       " 'particularly',\n",
       " 'busy',\n",
       " 'in',\n",
       " 'the',\n",
       " 'space',\n",
       " 'this',\n",
       " 'year',\n",
       " '',\n",
       " 'in',\n",
       " 'march',\n",
       " '',\n",
       " 'google',\n",
       " 'released',\n",
       " 'tensorflow',\n",
       " 'privacy',\n",
       " 'and',\n",
       " 'tensorflow',\n",
       " 'federated',\n",
       " '',\n",
       " 'in',\n",
       " 'june',\n",
       " '',\n",
       " 'the',\n",
       " 'company',\n",
       " 'open-sourced',\n",
       " 'private',\n",
       " 'join',\n",
       " 'and',\n",
       " 'compute',\n",
       " '',\n",
       " 'which',\n",
       " 'gives',\n",
       " 'companies',\n",
       " 'data',\n",
       " 'insights',\n",
       " 'while',\n",
       " 'preserving',\n",
       " 'privacy',\n",
       " '',\n",
       " 'to',\n",
       " 'learn',\n",
       " 'more',\n",
       " 'about',\n",
       " 'google’s',\n",
       " 'approach',\n",
       " '',\n",
       " 'check',\n",
       " 'out',\n",
       " 'the',\n",
       " 'team’s',\n",
       " 'technical',\n",
       " 'paper',\n",
       " 'on',\n",
       " 'arxiv',\n",
       " '',\n",
       " '']"
      ]
     },
     "execution_count": 50,
     "metadata": {},
     "output_type": "execute_result"
    }
   ],
   "source": [
    "text = text.lower()\n",
    "for sep in '\\n\\n.,\"\\',\"\"()':\n",
    "    text = text.replace(sep,' ')\n",
    "#text = text.replace('\\n',' ')\n",
    "#text = text.replace('\\t',' ')\n",
    "words = text.split(' ')\n",
    "words"
   ]
  },
  {
   "cell_type": "code",
   "execution_count": 51,
   "id": "236e4aaa-624c-4220-b320-bcde7da08593",
   "metadata": {
    "tags": []
   },
   "outputs": [
    {
     "name": "stdout",
     "output_type": "stream",
     "text": [
      "{'': 67, 'google': 5, 'today': 1, 'released': 2, 'the': 15, 'open': 1, 'source': 1, 'version': 1, 'of': 5, 'differential': 6, 'privacy': 10, 'library': 5, 'used': 2, 'in': 9, 'some': 1, 'its': 2, 'core': 1, 'products': 1, 'such': 2, 'as': 2, 'maps': 1, 'any': 2, 'organization': 1, 'or': 5, 'developer': 2, 'can': 3, 'now': 1, 'check': 2, 'out': 2, 'on': 3, 'github': 1, 'limits': 1, 'algorithms': 1, 'to': 12, 'publish': 1, 'aggregate': 1, 'information': 1, 'about': 2, 'a': 6, 'statistical': 2, 'database': 1, 'whether': 1, 'you': 6, 'are': 7, 'city': 1, 'planner': 1, 'small': 1, 'business': 1, 'owner': 1, 'software': 1, 'chances': 1, 'want': 3, 'gain': 1, 'insights': 2, 'from': 3, 'data': 6, 'your': 1, 'citizens': 1, 'customers': 1, 'users': 1, 'but': 3, 'don’t': 1, 'lose': 1, 'their': 2, 'trust': 1, 'process': 1, 'differentially': 1, 'private': 2, 'analysis': 1, 'enables': 1, 'organizations': 1, 'learn': 2, 'majority': 1, 'without': 1, 'allowing': 1, 'single': 1, 'individual’s': 1, 'be': 2, 'distinguished': 1, 're-identified': 1, '“if': 1, 'health': 1, 'researcher': 1, 'may': 1, 'compare': 1, 'average': 1, 'amount': 1, 'time': 1, 'patients': 1, 'remain': 1, 'admitted': 1, 'across': 1, 'various': 1, 'hospitals': 1, 'order': 1, 'determine': 1, 'if': 1, 'there': 1, 'differences': 1, 'care': 1, '”': 3, 'product': 1, 'manager': 1, 'miguel': 1, 'guevara': 1, 'explains': 1, '“differential': 1, 'is': 3, 'high-assurance': 1, 'analytic': 1, 'means': 1, 'ensuring': 1, 'that': 2, 'use': 1, 'cases': 1, 'like': 1, 'this': 5, 'addressed': 1, 'privacy-preserving': 1, 'manner': 1, 'features': 2, 'promises': 1, 'easy': 1, 'for': 1, 'developers': 1, 'deploy': 1, 'it': 1, 'help': 1, 'perform': 1, 'functions': 2, 'difficult': 1, 'execute': 1, 'scratch': 1, '“like': 1, 'automatically': 1, 'calculating': 1, 'bounds': 1, 'user': 1, 'contributions': 1, 'guevera': 1, 'says': 1, 'key': 1, 'include:': 1, 'functions:': 1, 'most': 1, 'common': 2, 'science': 1, 'operations': 1, 'counts': 1, 'sums': 1, 'averages': 1, 'medians': 1, 'and': 3, 'percentiles': 1, 'supported': 1, 'rigorous': 1, 'testing:': 1, 'besides': 1, 'an': 2, 'extensive': 1, 'test': 1, 'suite': 1, 'extensible': 1, '“stochastic': 1, 'model': 1, 'checker': 1, 'library”': 1, 'helps': 1, 'prevent': 1, 'mistakes': 1, 'ready': 1, 'use:': 1, 'postgresql': 1, 'extension': 1, 'along': 1, 'with': 1, 'recipes': 1, 'included': 1, 'modular:': 1, 'extended': 1, 'include': 1, 'other': 1, 'functionalities': 1, 'additional': 1, 'mechanisms': 1, 'aggregation': 1, 'budget': 1, 'management': 1, 'isn’t': 2, 'google’s': 3, 'first': 2, 'rodeo': 2, 'company': 3, 'has': 2, 'been': 2, 'particularly': 2, 'busy': 2, 'space': 2, 'year': 1, 'march': 1, 'tensorflow': 2, 'federated': 1, 'june': 1, 'open-sourced': 1, 'join': 1, 'compute': 1, 'which': 1, 'gives': 1, 'companies': 1, 'while': 1, 'preserving': 1, 'more': 1, 'approach': 1, 'team’s': 1, 'technical': 1, 'paper': 1, 'arxiv': 1}\n"
     ]
    }
   ],
   "source": [
    "count = {}\n",
    "for word in words:\n",
    "    count.setdefault(word,0)\n",
    "    count[word]+=1\n",
    "print(count)"
   ]
  },
  {
   "cell_type": "code",
   "execution_count": 55,
   "id": "d1708b8f-c000-42e1-9180-a3e227088c07",
   "metadata": {
    "tags": []
   },
   "outputs": [],
   "source": [
    "words_by_count = dict()\n",
    "for word in count.keys():\n",
    "    words_by_count.setdefault(count[word],[])\n",
    "    words_by_count[count[word]].append(word)"
   ]
  },
  {
   "cell_type": "code",
   "execution_count": 53,
   "id": "8139f69a-816f-48c1-bf46-248e3a6cf911",
   "metadata": {
    "tags": []
   },
   "outputs": [
    {
     "data": {
      "text/plain": [
       "{67: [''],\n",
       " 5: ['google', 'of', 'library', 'or', 'this'],\n",
       " 1: ['today',\n",
       "  'open',\n",
       "  'source',\n",
       "  'version',\n",
       "  'some',\n",
       "  'core',\n",
       "  'products',\n",
       "  'maps',\n",
       "  'organization',\n",
       "  'now',\n",
       "  'github',\n",
       "  'limits',\n",
       "  'algorithms',\n",
       "  'publish',\n",
       "  'aggregate',\n",
       "  'information',\n",
       "  'database',\n",
       "  'whether',\n",
       "  'city',\n",
       "  'planner',\n",
       "  'small',\n",
       "  'business',\n",
       "  'owner',\n",
       "  'software',\n",
       "  'chances',\n",
       "  'gain',\n",
       "  'your',\n",
       "  'citizens',\n",
       "  'customers',\n",
       "  'users',\n",
       "  'don’t',\n",
       "  'lose',\n",
       "  'trust',\n",
       "  'process',\n",
       "  'differentially',\n",
       "  'analysis',\n",
       "  'enables',\n",
       "  'organizations',\n",
       "  'majority',\n",
       "  'without',\n",
       "  'allowing',\n",
       "  'single',\n",
       "  'individual’s',\n",
       "  'distinguished',\n",
       "  're-identified',\n",
       "  '“if',\n",
       "  'health',\n",
       "  'researcher',\n",
       "  'may',\n",
       "  'compare',\n",
       "  'average',\n",
       "  'amount',\n",
       "  'time',\n",
       "  'patients',\n",
       "  'remain',\n",
       "  'admitted',\n",
       "  'across',\n",
       "  'various',\n",
       "  'hospitals',\n",
       "  'order',\n",
       "  'determine',\n",
       "  'if',\n",
       "  'there',\n",
       "  'differences',\n",
       "  'care',\n",
       "  'product',\n",
       "  'manager',\n",
       "  'miguel',\n",
       "  'guevara',\n",
       "  'explains',\n",
       "  '“differential',\n",
       "  'high-assurance',\n",
       "  'analytic',\n",
       "  'means',\n",
       "  'ensuring',\n",
       "  'use',\n",
       "  'cases',\n",
       "  'like',\n",
       "  'addressed',\n",
       "  'privacy-preserving',\n",
       "  'manner',\n",
       "  'promises',\n",
       "  'easy',\n",
       "  'for',\n",
       "  'developers',\n",
       "  'deploy',\n",
       "  'it',\n",
       "  'help',\n",
       "  'perform',\n",
       "  'difficult',\n",
       "  'execute',\n",
       "  'scratch',\n",
       "  '“like',\n",
       "  'automatically',\n",
       "  'calculating',\n",
       "  'bounds',\n",
       "  'user',\n",
       "  'contributions',\n",
       "  'guevera',\n",
       "  'says',\n",
       "  'key',\n",
       "  'include:',\n",
       "  'functions:',\n",
       "  'most',\n",
       "  'science',\n",
       "  'operations',\n",
       "  'counts',\n",
       "  'sums',\n",
       "  'averages',\n",
       "  'medians',\n",
       "  'percentiles',\n",
       "  'supported',\n",
       "  'rigorous',\n",
       "  'testing:',\n",
       "  'besides',\n",
       "  'extensive',\n",
       "  'test',\n",
       "  'suite',\n",
       "  'extensible',\n",
       "  '“stochastic',\n",
       "  'model',\n",
       "  'checker',\n",
       "  'library”',\n",
       "  'helps',\n",
       "  'prevent',\n",
       "  'mistakes',\n",
       "  'ready',\n",
       "  'use:',\n",
       "  'postgresql',\n",
       "  'extension',\n",
       "  'along',\n",
       "  'with',\n",
       "  'recipes',\n",
       "  'included',\n",
       "  'modular:',\n",
       "  'extended',\n",
       "  'include',\n",
       "  'other',\n",
       "  'functionalities',\n",
       "  'additional',\n",
       "  'mechanisms',\n",
       "  'aggregation',\n",
       "  'budget',\n",
       "  'management',\n",
       "  'year',\n",
       "  'march',\n",
       "  'federated',\n",
       "  'june',\n",
       "  'open-sourced',\n",
       "  'join',\n",
       "  'compute',\n",
       "  'which',\n",
       "  'gives',\n",
       "  'companies',\n",
       "  'while',\n",
       "  'preserving',\n",
       "  'more',\n",
       "  'approach',\n",
       "  'team’s',\n",
       "  'technical',\n",
       "  'paper',\n",
       "  'arxiv'],\n",
       " 2: ['released',\n",
       "  'used',\n",
       "  'its',\n",
       "  'such',\n",
       "  'as',\n",
       "  'any',\n",
       "  'developer',\n",
       "  'check',\n",
       "  'out',\n",
       "  'about',\n",
       "  'statistical',\n",
       "  'insights',\n",
       "  'their',\n",
       "  'private',\n",
       "  'learn',\n",
       "  'be',\n",
       "  'that',\n",
       "  'features',\n",
       "  'functions',\n",
       "  'common',\n",
       "  'an',\n",
       "  'isn’t',\n",
       "  'first',\n",
       "  'rodeo',\n",
       "  'has',\n",
       "  'been',\n",
       "  'particularly',\n",
       "  'busy',\n",
       "  'space',\n",
       "  'tensorflow'],\n",
       " 15: ['the'],\n",
       " 6: ['differential', 'a', 'you', 'data'],\n",
       " 10: ['privacy'],\n",
       " 9: ['in'],\n",
       " 3: ['can',\n",
       "  'on',\n",
       "  'want',\n",
       "  'from',\n",
       "  'but',\n",
       "  '”',\n",
       "  'is',\n",
       "  'and',\n",
       "  'google’s',\n",
       "  'company'],\n",
       " 12: ['to'],\n",
       " 7: ['are']}"
      ]
     },
     "execution_count": 53,
     "metadata": {},
     "output_type": "execute_result"
    }
   ],
   "source": [
    "words_by_count"
   ]
  },
  {
   "cell_type": "code",
   "execution_count": 56,
   "id": "d495f3c3-88df-4e6d-a023-ceabed7a8672",
   "metadata": {
    "tags": []
   },
   "outputs": [
    {
     "name": "stdout",
     "output_type": "stream",
     "text": [
      "[4] [3]\n"
     ]
    }
   ],
   "source": [
    "x=[3]\n",
    "y=[3]\n",
    "x[0]=4\n",
    "print(x,y)"
   ]
  },
  {
   "cell_type": "code",
   "execution_count": 57,
   "id": "5b206507-b36f-4154-8941-c63f4a269f7a",
   "metadata": {
    "tags": []
   },
   "outputs": [
    {
     "data": {
      "text/plain": [
       "list"
      ]
     },
     "execution_count": 57,
     "metadata": {},
     "output_type": "execute_result"
    }
   ],
   "source": [
    "type(x)"
   ]
  },
  {
   "cell_type": "code",
   "execution_count": 58,
   "id": "86895e9d-5d99-42c1-ac79-caa80dbdd8c1",
   "metadata": {
    "tags": []
   },
   "outputs": [
    {
     "data": {
      "text/plain": [
       "False"
      ]
     },
     "execution_count": 58,
     "metadata": {},
     "output_type": "execute_result"
    }
   ],
   "source": [
    "x is y"
   ]
  },
  {
   "cell_type": "code",
   "execution_count": 59,
   "id": "c209ddc7-0a36-4ea3-b453-748de67f4e74",
   "metadata": {
    "tags": []
   },
   "outputs": [
    {
     "data": {
      "text/plain": [
       "True"
      ]
     },
     "execution_count": 59,
     "metadata": {},
     "output_type": "execute_result"
    }
   ],
   "source": [
    "x=3\n",
    "y=3\n",
    "x is y"
   ]
  },
  {
   "cell_type": "code",
   "execution_count": 60,
   "id": "5b91d6a7-beb0-47cd-94aa-9c7fbc9a4e4b",
   "metadata": {
    "tags": []
   },
   "outputs": [
    {
     "data": {
      "text/plain": [
       "False"
      ]
     },
     "execution_count": 60,
     "metadata": {},
     "output_type": "execute_result"
    }
   ],
   "source": [
    "x=(3,)\n",
    "y=(3,)\n",
    "x is y"
   ]
  },
  {
   "cell_type": "code",
   "execution_count": 62,
   "id": "930e570b-5e43-4812-b2ab-ab75a9c547f2",
   "metadata": {
    "tags": []
   },
   "outputs": [
    {
     "name": "stderr",
     "output_type": "stream",
     "text": [
      "<>:1: SyntaxWarning: \"is\" with a literal. Did you mean \"==\"?\n",
      "<>:1: SyntaxWarning: \"is\" with a literal. Did you mean \"==\"?\n",
      "/var/folders/tb/bbdwhkcx1f1dmhvp2cygqgp40000gn/T/ipykernel_3046/3210800052.py:1: SyntaxWarning: \"is\" with a literal. Did you mean \"==\"?\n",
      "  3 is True\n"
     ]
    },
    {
     "data": {
      "text/plain": [
       "False"
      ]
     },
     "execution_count": 62,
     "metadata": {},
     "output_type": "execute_result"
    }
   ],
   "source": [
    "3 is True"
   ]
  },
  {
   "cell_type": "code",
   "execution_count": 63,
   "id": "dbdfb23d-904b-4ec0-81eb-e0a03c55720b",
   "metadata": {
    "tags": []
   },
   "outputs": [
    {
     "data": {
      "text/plain": [
       "2"
      ]
     },
     "execution_count": 63,
     "metadata": {},
     "output_type": "execute_result"
    }
   ],
   "source": [
    "1+True"
   ]
  },
  {
   "cell_type": "code",
   "execution_count": 64,
   "id": "87a3a4b1-8cc4-4785-864d-09c980c8a462",
   "metadata": {
    "tags": []
   },
   "outputs": [
    {
     "data": {
      "text/plain": [
       "1"
      ]
     },
     "execution_count": 64,
     "metadata": {},
     "output_type": "execute_result"
    }
   ],
   "source": [
    "1+False"
   ]
  },
  {
   "cell_type": "code",
   "execution_count": null,
   "id": "2c4cebc5-9ac1-4230-9d6c-9a4275b7bd7c",
   "metadata": {},
   "outputs": [],
   "source": []
  }
 ],
 "metadata": {
  "kernelspec": {
   "display_name": "Python 3 (ipykernel)",
   "language": "python",
   "name": "python3"
  },
  "language_info": {
   "codemirror_mode": {
    "name": "ipython",
    "version": 3
   },
   "file_extension": ".py",
   "mimetype": "text/x-python",
   "name": "python",
   "nbconvert_exporter": "python",
   "pygments_lexer": "ipython3",
   "version": "3.11.4"
  }
 },
 "nbformat": 4,
 "nbformat_minor": 5
}
