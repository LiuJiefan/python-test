{
 "cells": [
  {
   "cell_type": "code",
   "execution_count": 3,
   "id": "fa61adcd-79c7-4f35-a66a-2bf2cc7e6513",
   "metadata": {
    "tags": []
   },
   "outputs": [
    {
     "name": "stdin",
     "output_type": "stream",
     "text": [
      "your name please: \n"
     ]
    },
    {
     "name": "stdout",
     "output_type": "stream",
     "text": [
      "You forgot your name?\n"
     ]
    }
   ],
   "source": [
    "name = input ('your name please:')\n",
    "if name:\n",
    "    print('Hello,'+name)\n",
    "else:\n",
    "    print('You forgot your name?')"
   ]
  },
  {
   "cell_type": "code",
   "execution_count": 4,
   "id": "fc3420ef-2134-40aa-adc6-097eeae016e3",
   "metadata": {
    "tags": []
   },
   "outputs": [
    {
     "name": "stdin",
     "output_type": "stream",
     "text": [
      "your name:  \n"
     ]
    },
    {
     "name": "stdout",
     "output_type": "stream",
     "text": [
      "Hello, \n"
     ]
    }
   ],
   "source": [
    "name = input('your name:')\n",
    "print('Hello,'+name if name else 'You forgot your name?')"
   ]
  },
  {
   "cell_type": "code",
   "execution_count": 5,
   "id": "ef503796-bc23-474e-8e31-c8b91a7a7145",
   "metadata": {
    "tags": []
   },
   "outputs": [],
   "source": [
    "def abs(a):\n",
    "    return a if a>=0 else -a"
   ]
  },
  {
   "cell_type": "code",
   "execution_count": 6,
   "id": "676bbb67-597e-43da-8a61-a18b4a6d7bff",
   "metadata": {
    "tags": []
   },
   "outputs": [
    {
     "data": {
      "text/plain": [
       "True"
      ]
     },
     "execution_count": 6,
     "metadata": {},
     "output_type": "execute_result"
    }
   ],
   "source": [
    "a=4\n",
    "3<a<5"
   ]
  },
  {
   "cell_type": "code",
   "execution_count": 12,
   "id": "43f9b68a-d8ef-4680-86b7-7dae9a2745de",
   "metadata": {
    "tags": []
   },
   "outputs": [
    {
     "name": "stdin",
     "output_type": "stream",
     "text": [
      "please input the year: 2014\n"
     ]
    },
    {
     "name": "stdout",
     "output_type": "stream",
     "text": [
      "not a leap year\n"
     ]
    }
   ],
   "source": [
    "year = int(input('please input the year:'))\n",
    "if year % 400 == 0:\n",
    "    print('leap year')\n",
    "if year % 100 == 0:\n",
    "    print('not a leap year')\n",
    "elif year % 4 == 0:\n",
    "    print('leap year')\n",
    "else:\n",
    "    print('not a leap year')"
   ]
  },
  {
   "cell_type": "code",
   "execution_count": 15,
   "id": "929b509c-fd2f-4a2f-8898-b960b904212d",
   "metadata": {
    "tags": []
   },
   "outputs": [
    {
     "name": "stdin",
     "output_type": "stream",
     "text": [
      "please input the year:  -1\n"
     ]
    },
    {
     "name": "stdout",
     "output_type": "stream",
     "text": [
      "not a leap year\n"
     ]
    }
   ],
   "source": [
    "def is_leap_year(year):\n",
    "    if year %400==0:\n",
    "        return True\n",
    "    elif year %100 ==0:\n",
    "        return False\n",
    "    elif year %4 ==0:\n",
    "        return True\n",
    "    else:\n",
    "        return False\n",
    "year = int (input('please input the year: '))\n",
    "print('leap year'if is_leap_year(year) else 'not a leap year')"
   ]
  },
  {
   "cell_type": "code",
   "execution_count": 16,
   "id": "1f459328-9901-4d15-ad88-a3591b8dd21a",
   "metadata": {
    "tags": []
   },
   "outputs": [
    {
     "data": {
      "text/plain": [
       "<function __main__.test_is_leap_year()>"
      ]
     },
     "execution_count": 16,
     "metadata": {},
     "output_type": "execute_result"
    }
   ],
   "source": [
    "def test_is_leap_year():\n",
    "    assert(is_leap_year(2000))\n",
    "    assert(is_leap_year(1900)==False)\n",
    "    assert(is_leap_year(1984))\n",
    "    assert(is_leap_year(3)==False)\n",
    "    \n",
    "test_is_leap_year"
   ]
  },
  {
   "cell_type": "code",
   "execution_count": 17,
   "id": "29e09d51-9f67-432b-8620-2c8d02eb9774",
   "metadata": {
    "tags": []
   },
   "outputs": [
    {
     "name": "stdin",
     "output_type": "stream",
     "text": [
      "please input the year:  -2\n"
     ]
    },
    {
     "name": "stdout",
     "output_type": "stream",
     "text": [
      "invalid year\n"
     ]
    }
   ],
   "source": [
    "def is_leap_year(year):\n",
    "    assert(year >=0)\n",
    "    if year %400==0:\n",
    "        return True\n",
    "    elif year %100 ==0:\n",
    "        return False\n",
    "    elif year %4 ==0:\n",
    "        return True\n",
    "    else:\n",
    "        return False\n",
    "year = int (input('please input the year: '))\n",
    "\n",
    "if year<0:\n",
    "    print('invalid year')\n",
    "else:\n",
    "    print('leap year'if is_leap_year(year) else 'not a leap year')\n"
   ]
  },
  {
   "cell_type": "code",
   "execution_count": 18,
   "id": "8ade53e5-d770-44a2-a623-049149d97f47",
   "metadata": {
    "tags": []
   },
   "outputs": [
    {
     "ename": "AssertionError",
     "evalue": "",
     "output_type": "error",
     "traceback": [
      "\u001b[0;31m---------------------------------------------------------------------------\u001b[0m",
      "\u001b[0;31mAssertionError\u001b[0m                            Traceback (most recent call last)",
      "Cell \u001b[0;32mIn[18], line 4\u001b[0m\n\u001b[1;32m      2\u001b[0m     \u001b[38;5;28;01massert\u001b[39;00m(year\u001b[38;5;241m>\u001b[39m\u001b[38;5;241m=\u001b[39m\u001b[38;5;241m0\u001b[39m)\n\u001b[1;32m      3\u001b[0m     \u001b[38;5;28;01mreturn\u001b[39;00m(year \u001b[38;5;241m%\u001b[39m \u001b[38;5;241m400\u001b[39m\u001b[38;5;241m==\u001b[39m\u001b[38;5;241m0\u001b[39m)\u001b[38;5;129;01mand\u001b[39;00m(year \u001b[38;5;241m%\u001b[39m\u001b[38;5;241m4\u001b[39m\u001b[38;5;241m==\u001b[39m\u001b[38;5;241m0\u001b[39m \u001b[38;5;129;01mand\u001b[39;00m year\u001b[38;5;241m%\u001b[39m\u001b[38;5;241m100\u001b[39m)\n\u001b[0;32m----> 4\u001b[0m test_is_leap_year()\n",
      "Cell \u001b[0;32mIn[16], line 2\u001b[0m, in \u001b[0;36mtest_is_leap_year\u001b[0;34m()\u001b[0m\n\u001b[1;32m      1\u001b[0m \u001b[38;5;28;01mdef\u001b[39;00m \u001b[38;5;21mtest_is_leap_year\u001b[39m():\n\u001b[0;32m----> 2\u001b[0m     \u001b[38;5;28;01massert\u001b[39;00m(is_leap_year(\u001b[38;5;241m2000\u001b[39m))\n\u001b[1;32m      3\u001b[0m     \u001b[38;5;28;01massert\u001b[39;00m(is_leap_year(\u001b[38;5;241m1900\u001b[39m)\u001b[38;5;241m==\u001b[39m\u001b[38;5;28;01mFalse\u001b[39;00m)\n\u001b[1;32m      4\u001b[0m     \u001b[38;5;28;01massert\u001b[39;00m(is_leap_year(\u001b[38;5;241m1984\u001b[39m))\n",
      "\u001b[0;31mAssertionError\u001b[0m: "
     ]
    }
   ],
   "source": [
    "def is_leap_year(year):\n",
    "    assert(year>=0)\n",
    "    return(year % 400==0)and(year %4==0 and year%100)\n",
    "test_is_leap_year()"
   ]
  },
  {
   "cell_type": "code",
   "execution_count": 19,
   "id": "ae7031cb-85d0-4de8-95cb-2e0f24012efe",
   "metadata": {
    "tags": []
   },
   "outputs": [
    {
     "name": "stdout",
     "output_type": "stream",
     "text": [
      "1 2 4 5 7 8 10 11 14 16 17 19 20 22 25 26 28 29 40 41 44 46 47 49 50 52 55 56 58 59 61 62 64 65 67 68 70 71 74 76 77 79 80 82 85 86 88 89 91 92 94 95 97 98 100 "
     ]
    }
   ],
   "source": [
    "x =1\n",
    "while x<=100:\n",
    "    if x % 3==0 or '3' in str(x):\n",
    "        pass\n",
    "    else:\n",
    "        print(x,end=' ')\n",
    "    x +=1"
   ]
  },
  {
   "cell_type": "code",
   "execution_count": 21,
   "id": "12ba1c37-8b5d-4b7b-a2df-5a723c603749",
   "metadata": {
    "tags": []
   },
   "outputs": [
    {
     "name": "stdout",
     "output_type": "stream",
     "text": [
      "124578101114161719202225262829404144464749505255565859616264656768707174767779808285868889919294959798100"
     ]
    }
   ],
   "source": [
    "x =1\n",
    "while x<=100:\n",
    "    if x % 3==0 or '3' in str(x):\n",
    "        pass\n",
    "    else:\n",
    "        print(x,end='')\n",
    "    x +=1"
   ]
  },
  {
   "cell_type": "code",
   "execution_count": 22,
   "id": "2dd5e49d-030c-427d-adee-fd881296ca8c",
   "metadata": {
    "tags": []
   },
   "outputs": [
    {
     "name": "stdout",
     "output_type": "stream",
     "text": [
      "**********\n",
      "**********\n",
      "**********\n",
      "**********\n",
      "**********\n"
     ]
    }
   ],
   "source": [
    "for i in range(5):\n",
    "    print('*'*10)"
   ]
  },
  {
   "cell_type": "code",
   "execution_count": 24,
   "id": "51057b94-5156-4800-a37f-82fcceb611d3",
   "metadata": {
    "tags": []
   },
   "outputs": [
    {
     "name": "stdout",
     "output_type": "stream",
     "text": [
      "**********\n",
      "**********\n",
      "**********\n",
      "**********\n",
      "**********\n"
     ]
    }
   ],
   "source": [
    "for _ in range(5):\n",
    "    print('*'*10)"
   ]
  },
  {
   "cell_type": "code",
   "execution_count": 34,
   "id": "6bc91e4a-ca96-4c12-add7-da8096c10155",
   "metadata": {
    "tags": []
   },
   "outputs": [
    {
     "name": "stdout",
     "output_type": "stream",
     "text": [
      "\b                                                           *"
     ]
    }
   ],
   "source": [
    "import math\n",
    "\n",
    "def wait():\n",
    "    y = 0\n",
    "    while y < 500000:\n",
    "        z = math.sin(0.2)*math.exp(0.1)\n",
    "        y +=1\n",
    "bar_length =60\n",
    "x=1\n",
    "while x<bar_length:\n",
    "    print('\\b *',sep='',end='',flush=True)\n",
    "    x+=1\n",
    "    wait() #拖慢CPU速度"
   ]
  },
  {
   "cell_type": "code",
   "execution_count": 38,
   "id": "f6bb6eac-a7b2-45ee-8d12-ef8c2130a869",
   "metadata": {
    "tags": []
   },
   "outputs": [
    {
     "name": "stdout",
     "output_type": "stream",
     "text": [
      "#                                                          *\r"
     ]
    }
   ],
   "source": [
    "import math\n",
    "\n",
    "def wait():\n",
    "    y = 0\n",
    "    while y < 500000:\n",
    "        z = math.sin(0.2)*math.exp(0.1)\n",
    "        y +=1\n",
    "bar_length =60\n",
    "x=0\n",
    "y = bar_length -1\n",
    "\n",
    "bar = list(' '*bar_length)\n",
    "\n",
    "for i in range(bar_length):\n",
    "    bar[x] = '*'\n",
    "    bar[y] = '#'\n",
    "    print(''.join(bar),end='',flush=True)  #show the bar\n",
    "    wait()\n",
    "    bar[x]=' '\n",
    "    bar[y]=' '\n",
    "    \n",
    "    x+=1\n",
    "    y-=1\n",
    "    print('\\r',end='',flush=True)"
   ]
  },
  {
   "cell_type": "code",
   "execution_count": 39,
   "id": "4583df56-fc49-4968-ba76-89c0930eb99c",
   "metadata": {
    "tags": []
   },
   "outputs": [
    {
     "ename": "NameError",
     "evalue": "name 'init_bar' is not defined",
     "output_type": "error",
     "traceback": [
      "\u001b[0;31m---------------------------------------------------------------------------\u001b[0m",
      "\u001b[0;31mNameError\u001b[0m                                 Traceback (most recent call last)",
      "Cell \u001b[0;32mIn[39], line 1\u001b[0m\n\u001b[0;32m----> 1\u001b[0m init_bar()\n\u001b[1;32m      2\u001b[0m init_ants()\n\u001b[1;32m      3\u001b[0m update_bar()\n",
      "\u001b[0;31mNameError\u001b[0m: name 'init_bar' is not defined"
     ]
    }
   ],
   "source": [
    "init_bar()\n",
    "init_ants()\n",
    "update_bar()\n",
    "show_bar()\n",
    "\n",
    "while not is_bar_empty():\n",
    "    update_bar()\n",
    "    show_bar()\n",
    "    wait()\n",
    "    update_ants_position()"
   ]
  },
  {
   "cell_type": "code",
   "execution_count": 48,
   "id": "5fa5bc88-a0b7-4f4a-8c64-6a7678e59224",
   "metadata": {
    "tags": []
   },
   "outputs": [
    {
     "name": "stdout",
     "output_type": "stream",
     "text": [
      " *                                                        * \r"
     ]
    }
   ],
   "source": [
    "from time import sleep\n",
    "\n",
    "\n",
    "\n",
    "def init_bar(bar_length):\n",
    "    bar = list(' '*bar_length)\n",
    "    return bar\n",
    "def init_ants(bar_length):\n",
    "    ants = list()\n",
    "    ants.append({'position':0,'direction':1})\n",
    "    ants.append({'position':bar_length - 1,'direction':-1})\n",
    "    return ants\n",
    "def update_bar(bar,ants):\n",
    "    for i in range(len(bar)):\n",
    "        bar[i]= ' '\n",
    "    for ant in ants:\n",
    "        if 0<=ant['position']< len(bar):\n",
    "            bar[ant['position']]='*'\n",
    "\n",
    "def is_bar_empty(bar):\n",
    "    for item in bar :\n",
    "        if not item == ' ':\n",
    "            return False\n",
    "        return True\n",
    "def show_bar(bar):\n",
    "    print(''.join(bar),end='\\r',flush=True)\n",
    "\n",
    "def update_ants_position(ants):\n",
    "    for ant in ants:\n",
    "        ant['position']+=ant['direction']\n",
    "\n",
    "BAR_LENGTH = 60\n",
    "bar = init_bar(BAR_LENGTH)\n",
    "ants = init_ants(BAR_LENGTH)\n",
    "update_bar(bar,ants)\n",
    "show_bar(bar)\n",
    "\n",
    "while not is_bar_empty(bar):\n",
    "    update_bar(bar,ants)\n",
    "    show_bar(bar)\n",
    "    sleep(0.2)\n",
    "    update_ants_position(ants)"
   ]
  },
  {
   "cell_type": "code",
   "execution_count": 68,
   "id": "f6677c31-93e8-4b83-ac42-24c90cda4776",
   "metadata": {
    "tags": []
   },
   "outputs": [
    {
     "name": "stdin",
     "output_type": "stream",
     "text": [
      "please input a sentence: \n",
      "please input a sentence: \n",
      "please input a sentence: 2 3\n"
     ]
    },
    {
     "name": "stdout",
     "output_type": "stream",
     "text": [
      "2 1\n",
      "3 1\n"
     ]
    }
   ],
   "source": [
    "str1 =''\n",
    "while not str1:\n",
    "    str1 = input('please input a sentence:')\n",
    "for word in str1.split():\n",
    "    print(word,len(word))"
   ]
  },
  {
   "cell_type": "code",
   "execution_count": 52,
   "id": "d169f869-637e-4bfe-83e4-3f9d1f50943e",
   "metadata": {
    "tags": []
   },
   "outputs": [
    {
     "name": "stdout",
     "output_type": "stream",
     "text": [
      "a 10\n",
      "b 20\n",
      "c 30\n"
     ]
    }
   ],
   "source": [
    "names =['a','b','c']\n",
    "age =[10,20,30]\n",
    "for name,age in zip(names,age):\n",
    "    print(name,age)"
   ]
  },
  {
   "cell_type": "code",
   "execution_count": 65,
   "id": "6fbf25d4-de80-4ed9-951a-93a827c02097",
   "metadata": {
    "tags": []
   },
   "outputs": [],
   "source": [
    "girls =['','','','']\n",
    "boys = ['','','']\n",
    "[(boy,girl)for girl in girls for boy in boys if "
   ]
  },
  {
   "cell_type": "code",
   "execution_count": 70,
   "id": "6bac5e62-609b-4b03-a019-82b80548453a",
   "metadata": {
    "tags": []
   },
   "outputs": [],
   "source": [
    "t =(i * 3 for i in range(10))"
   ]
  },
  {
   "cell_type": "code",
   "execution_count": 71,
   "id": "5867a0cb-f788-4301-877d-8b3e915a2234",
   "metadata": {
    "tags": []
   },
   "outputs": [
    {
     "data": {
      "text/plain": [
       "<generator object <genexpr> at 0x107260380>"
      ]
     },
     "execution_count": 71,
     "metadata": {},
     "output_type": "execute_result"
    }
   ],
   "source": [
    "t"
   ]
  },
  {
   "cell_type": "code",
   "execution_count": 72,
   "id": "11f3bc6d-2d54-4141-a47d-8da9c6de09ab",
   "metadata": {
    "tags": []
   },
   "outputs": [
    {
     "data": {
      "text/plain": [
       "[0, 1, 2, 3, 4, 5, 6, 7, 8, 9]"
      ]
     },
     "execution_count": 72,
     "metadata": {},
     "output_type": "execute_result"
    }
   ],
   "source": [
    "list(range(10))"
   ]
  },
  {
   "cell_type": "code",
   "execution_count": 73,
   "id": "fed06441-b6cc-4b52-8c24-d6bae1d0559e",
   "metadata": {
    "tags": []
   },
   "outputs": [
    {
     "data": {
      "text/plain": [
       "[0, 3, 6, 9, 12, 15, 18, 21, 24, 27]"
      ]
     },
     "execution_count": 73,
     "metadata": {},
     "output_type": "execute_result"
    }
   ],
   "source": [
    "list(t\n",
    ")"
   ]
  },
  {
   "cell_type": "code",
   "execution_count": 74,
   "id": "29d5ad6a-1fb1-4f5f-9a3b-739004456a26",
   "metadata": {
    "tags": []
   },
   "outputs": [
    {
     "data": {
      "text/plain": [
       "generator"
      ]
     },
     "execution_count": 74,
     "metadata": {},
     "output_type": "execute_result"
    }
   ],
   "source": [
    "type(t)"
   ]
  },
  {
   "cell_type": "code",
   "execution_count": 75,
   "id": "6163ff44-f089-4071-a5cb-44b8704c27ee",
   "metadata": {
    "tags": []
   },
   "outputs": [
    {
     "name": "stdout",
     "output_type": "stream",
     "text": [
      "abc abc\n"
     ]
    }
   ],
   "source": [
    "x=y='abc'\n",
    "print(x,y)"
   ]
  },
  {
   "cell_type": "code",
   "execution_count": 76,
   "id": "541c72a5-0a6d-4de8-b418-a59447ccf048",
   "metadata": {
    "tags": []
   },
   "outputs": [
    {
     "data": {
      "text/plain": [
       "True"
      ]
     },
     "execution_count": 76,
     "metadata": {},
     "output_type": "execute_result"
    }
   ],
   "source": [
    "x is y"
   ]
  },
  {
   "cell_type": "code",
   "execution_count": 77,
   "id": "a874b249-4ca6-40d8-b1e1-66646210d88c",
   "metadata": {
    "tags": []
   },
   "outputs": [],
   "source": [
    "del x"
   ]
  },
  {
   "cell_type": "code",
   "execution_count": 78,
   "id": "47eb7080-557d-4b74-a78d-eb33ca68b1bc",
   "metadata": {
    "tags": []
   },
   "outputs": [
    {
     "ename": "NameError",
     "evalue": "name 'x' is not defined",
     "output_type": "error",
     "traceback": [
      "\u001b[0;31m---------------------------------------------------------------------------\u001b[0m",
      "\u001b[0;31mNameError\u001b[0m                                 Traceback (most recent call last)",
      "Cell \u001b[0;32mIn[78], line 1\u001b[0m\n\u001b[0;32m----> 1\u001b[0m x\n",
      "\u001b[0;31mNameError\u001b[0m: name 'x' is not defined"
     ]
    }
   ],
   "source": [
    "x"
   ]
  },
  {
   "cell_type": "code",
   "execution_count": 79,
   "id": "7c4b28d1-244d-4d45-84e5-b82dc7f42d85",
   "metadata": {
    "tags": []
   },
   "outputs": [
    {
     "data": {
      "text/plain": [
       "'abc'"
      ]
     },
     "execution_count": 79,
     "metadata": {},
     "output_type": "execute_result"
    }
   ],
   "source": [
    "y"
   ]
  },
  {
   "cell_type": "code",
   "execution_count": 80,
   "id": "32b23279-6305-415b-921d-b11d80e6031c",
   "metadata": {
    "tags": []
   },
   "outputs": [
    {
     "name": "stderr",
     "output_type": "stream",
     "text": [
      "<>:1: SyntaxWarning: \"is\" with a literal. Did you mean \"==\"?\n",
      "<>:1: SyntaxWarning: \"is\" with a literal. Did you mean \"==\"?\n",
      "/var/folders/tb/bbdwhkcx1f1dmhvp2cygqgp40000gn/T/ipykernel_22561/4056859831.py:1: SyntaxWarning: \"is\" with a literal. Did you mean \"==\"?\n",
      "  2 is 3\n"
     ]
    },
    {
     "data": {
      "text/plain": [
       "False"
      ]
     },
     "execution_count": 80,
     "metadata": {},
     "output_type": "execute_result"
    }
   ],
   "source": [
    "2 is 3"
   ]
  },
  {
   "cell_type": "code",
   "execution_count": 81,
   "id": "3b3f7f9a-130b-45ad-91f2-0265ef7be945",
   "metadata": {
    "tags": []
   },
   "outputs": [
    {
     "data": {
      "text/plain": [
       "False"
      ]
     },
     "execution_count": 81,
     "metadata": {},
     "output_type": "execute_result"
    }
   ],
   "source": [
    "2 == 3"
   ]
  },
  {
   "cell_type": "code",
   "execution_count": 82,
   "id": "d727b1ef-9986-4343-bbb8-acb93f88e2f3",
   "metadata": {
    "tags": []
   },
   "outputs": [
    {
     "name": "stdout",
     "output_type": "stream",
     "text": [
      "Hello\n"
     ]
    }
   ],
   "source": [
    "exec('print(\"Hello\")') #字符串转为语句并执行"
   ]
  },
  {
   "cell_type": "code",
   "execution_count": 83,
   "id": "a9677de6-a6ed-494d-abef-56756168a8bc",
   "metadata": {
    "tags": []
   },
   "outputs": [
    {
     "name": "stdin",
     "output_type": "stream",
     "text": [
      "please input an expression: 1+2\n"
     ]
    },
    {
     "name": "stdout",
     "output_type": "stream",
     "text": [
      "3\n"
     ]
    }
   ],
   "source": [
    "expression = input('please input an expression:')\n",
    "exec(f'print({expression})')"
   ]
  },
  {
   "cell_type": "code",
   "execution_count": 84,
   "id": "73a38004-a479-48f2-ac13-6ea2633eec63",
   "metadata": {
    "tags": []
   },
   "outputs": [
    {
     "data": {
      "text/plain": [
       "5"
      ]
     },
     "execution_count": 84,
     "metadata": {},
     "output_type": "execute_result"
    }
   ],
   "source": [
    "eval('2+3')"
   ]
  },
  {
   "cell_type": "code",
   "execution_count": 85,
   "id": "e6b2c940-7a8d-4089-aa44-ff812c48b096",
   "metadata": {
    "tags": []
   },
   "outputs": [
    {
     "name": "stdin",
     "output_type": "stream",
     "text": [
      "please input an expression: 1+2\n"
     ]
    },
    {
     "name": "stdout",
     "output_type": "stream",
     "text": [
      "3\n"
     ]
    }
   ],
   "source": [
    "expression = input('please input an expression:')\n",
    "eval(f'print({expression})')"
   ]
  },
  {
   "cell_type": "code",
   "execution_count": 87,
   "id": "11025bc6-5147-4d89-8ad3-45ee09fa3699",
   "metadata": {
    "tags": []
   },
   "outputs": [
    {
     "data": {
      "text/plain": [
       "1.4142135623730951"
      ]
     },
     "execution_count": 87,
     "metadata": {},
     "output_type": "execute_result"
    }
   ],
   "source": [
    "from math import sqrt\n",
    "sqrt(2)"
   ]
  },
  {
   "cell_type": "code",
   "execution_count": 88,
   "id": "f0612a9a-4c3f-4a16-935d-2e05bb3dcebc",
   "metadata": {
    "tags": []
   },
   "outputs": [
    {
     "data": {
      "text/plain": [
       "2.0"
      ]
     },
     "execution_count": 88,
     "metadata": {},
     "output_type": "execute_result"
    }
   ],
   "source": [
    "from math import sqrt\n",
    "\n",
    "scope ={}\n",
    "exec('sqrt=1',scope)\n",
    "sqrt(4)"
   ]
  },
  {
   "cell_type": "code",
   "execution_count": 89,
   "id": "66886c0c-29c8-4f34-bdf8-e3cf9776e069",
   "metadata": {
    "tags": []
   },
   "outputs": [
    {
     "name": "stdout",
     "output_type": "stream",
     "text": [
      "Variable               Type                          Data/Info\n",
      "--------------------------------------------------------------\n",
      "BAR_LENGTH             int                           60\n",
      "a                      int                           1\n",
      "abs                    function                      <function abs at 0x1064f3880>\n",
      "age                    int                           30\n",
      "ants                   list                          n=2\n",
      "bar                    list                          n=60\n",
      "bar_length             int                           60\n",
      "expression             str                           1+2\n",
      "i                      int                           59\n",
      "init_ants              function                      <function init_ants at 0x1072c8f40>\n",
      "init_bar               function                      <function init_bar at 0x1072c8040>\n",
      "is_bar_empty           function                      <function is_bar_empty at 0x1072c8860>\n",
      "is_leap_year           function                      <function is_leap_year at 0x106530680>\n",
      "math                   module                        <module 'math' from '/Use<...>h.cpython-311-darwin.so'>\n",
      "name                   str                           c\n",
      "names                  list                          n=3\n",
      "scope                  dict                          n=2\n",
      "show_bar               function                      <function show_bar at 0x1065f7d80>\n",
      "sleep                  builtin_function_or_method    <built-in function sleep>\n",
      "sqrt                   builtin_function_or_method    <built-in function sqrt>\n",
      "str1                   str                           2 3\n",
      "t                      generator                     <generator object <genexpr> at 0x107260380>\n",
      "test_is_leap_year      function                      <function test_is_leap_year at 0x1065300e0>\n",
      "update_ants_position   function                      <function update_ants_position at 0x1071879c0>\n",
      "update_bar             function                      <function update_bar at 0x1072c8b80>\n",
      "wait                   function                      <function wait at 0x107184360>\n",
      "word                   str                           3\n",
      "y                      str                           abc\n",
      "year                   int                           -2\n"
     ]
    }
   ],
   "source": [
    "%whos"
   ]
  },
  {
   "cell_type": "code",
   "execution_count": 90,
   "id": "faff5759-f15a-4fca-bfcb-7f79b8df82d5",
   "metadata": {
    "tags": []
   },
   "outputs": [
    {
     "data": {
      "text/plain": [
       "2.0"
      ]
     },
     "execution_count": 90,
     "metadata": {},
     "output_type": "execute_result"
    }
   ],
   "source": [
    "from math import sqrt\n",
    "\n",
    "scop ={}\n",
    "exec('sqrt=1',scop)\n",
    "sqrt(4)"
   ]
  },
  {
   "cell_type": "code",
   "execution_count": 92,
   "id": "9b26afa3-81f6-4b8e-baa6-890f0d9a980d",
   "metadata": {
    "tags": []
   },
   "outputs": [
    {
     "name": "stdout",
     "output_type": "stream",
     "text": [
      "1\n",
      "2\n",
      "3\n",
      "4\n",
      "5\n",
      "6\n",
      "7\n",
      "8\n",
      "9\n",
      "10\n"
     ]
    }
   ],
   "source": [
    "def print_numbers(n):\n",
    "    if n >0:\n",
    "        print_numbers(n-1)\n",
    "        print(n)\n",
    "print_numbers(10)"
   ]
  },
  {
   "cell_type": "code",
   "execution_count": 93,
   "id": "40567c16-8745-4dd8-8391-94e3f69184cc",
   "metadata": {
    "tags": []
   },
   "outputs": [
    {
     "name": "stdout",
     "output_type": "stream",
     "text": [
      "0\n",
      "1\n",
      "2\n",
      "3\n",
      "4\n",
      "5\n",
      "6\n",
      "7\n",
      "8\n",
      "9\n",
      "10\n"
     ]
    }
   ],
   "source": [
    "def print_numbers(n):\n",
    "    if n >0:\n",
    "        print_numbers(n-1)\n",
    "    print(n)\n",
    "print_numbers(10)"
   ]
  },
  {
   "cell_type": "code",
   "execution_count": 94,
   "id": "00d152dc-1f6b-46d3-9067-dd030aae7ae8",
   "metadata": {
    "tags": []
   },
   "outputs": [
    {
     "name": "stdout",
     "output_type": "stream",
     "text": [
      "10\n",
      "9\n",
      "8\n",
      "7\n",
      "6\n",
      "5\n",
      "4\n",
      "3\n",
      "2\n",
      "1\n"
     ]
    }
   ],
   "source": [
    "def print_numbers(n):  \n",
    "    if n > 0:  \n",
    "        print(n)  \n",
    "        print_numbers(n-1)  \n",
    "print_numbers(10)"
   ]
  },
  {
   "cell_type": "code",
   "execution_count": 96,
   "id": "41a6a27e-ae9f-4b22-a9d5-3bf10181913a",
   "metadata": {
    "tags": []
   },
   "outputs": [
    {
     "data": {
      "text/plain": [
       "[1, 1, 2, 3, 5, 8, 13, 21, 34, 55]"
      ]
     },
     "execution_count": 96,
     "metadata": {},
     "output_type": "execute_result"
    }
   ],
   "source": [
    "def fib(n):\n",
    "    result =[1,1]\n",
    "    for i in range(n-2):\n",
    "        result.append(result[-2]+result[-1])\n",
    "    return result\n",
    "fib(10)"
   ]
  },
  {
   "cell_type": "code",
   "execution_count": null,
   "id": "105ec7ff-2d94-4efe-b39a-f4974b031bba",
   "metadata": {},
   "outputs": [],
   "source": []
  }
 ],
 "metadata": {
  "kernelspec": {
   "display_name": "Python 3 (ipykernel)",
   "language": "python",
   "name": "python3"
  },
  "language_info": {
   "codemirror_mode": {
    "name": "ipython",
    "version": 3
   },
   "file_extension": ".py",
   "mimetype": "text/x-python",
   "name": "python",
   "nbconvert_exporter": "python",
   "pygments_lexer": "ipython3",
   "version": "3.11.4"
  }
 },
 "nbformat": 4,
 "nbformat_minor": 5
}
